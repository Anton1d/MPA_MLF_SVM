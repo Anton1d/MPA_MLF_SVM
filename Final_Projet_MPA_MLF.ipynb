{
  "cells": [
    {
      "cell_type": "markdown",
      "id": "9457fdc4-1690-4c41-8e88-1597fc2a687c",
      "metadata": {
        "id": "9457fdc4-1690-4c41-8e88-1597fc2a687c"
      },
      "source": [
        " # MPA-MLF, Lab 7 - Convolutional Neural Network"
      ]
    },
    {
      "cell_type": "code",
      "execution_count": null,
      "id": "4l4g9Ya4pNMI",
      "metadata": {
        "colab": {
          "base_uri": "https://localhost:8080/"
        },
        "id": "4l4g9Ya4pNMI",
        "outputId": "43d593c4-37bc-49b2-943d-d8ebb7b52ad2"
      },
      "outputs": [
        {
          "output_type": "stream",
          "name": "stdout",
          "text": [
            "Mounted at /content/drive\n"
          ]
        }
      ],
      "source": [
        "from google.colab import drive\n",
        "drive.mount('/content/drive', force_remount=True)"
      ]
    },
    {
      "cell_type": "markdown",
      "id": "b724de14-3931-4983-b443-7e0106d190dc",
      "metadata": {
        "id": "b724de14-3931-4983-b443-7e0106d190dc"
      },
      "source": [
        "0. Import libraries"
      ]
    },
    {
      "cell_type": "code",
      "execution_count": null,
      "id": "1f692dd4-0262-4e7a-b029-69d8280f14d2",
      "metadata": {
        "id": "1f692dd4-0262-4e7a-b029-69d8280f14d2"
      },
      "outputs": [],
      "source": [
        "from tensorflow import keras\n",
        "from keras.models import Sequential\n",
        "import numpy as np\n",
        "import matplotlib\n",
        "import matplotlib.pyplot as plt\n",
        "from keras.datasets import cifar10\n",
        "import zipfile\n",
        "import os\n",
        "import pandas as pd\n",
        "from PIL import Image\n",
        "from keras.utils import image_dataset_from_directory\n",
        "from keras.utils import to_categorical\n",
        "from keras.layers import Conv2D, MaxPooling2D, Flatten, Dense\n",
        "from keras.optimizers import Adamax\n",
        "from keras.callbacks import EarlyStopping\n",
        "\n",
        "\n",
        "###################################\n",
        "font = {'weight' : 'bold',\n",
        "        'size'   : 12}\n",
        "\n",
        "matplotlib.rc('font', **font)"
      ]
    },
    {
      "cell_type": "code",
      "source": [
        "X_train=[]\n",
        "for image in os.listdir(\"/content/drive/MyDrive/data_projet/train/train_data_unlabeled\"):\n",
        "  im=Image.open(os.path.join(\"/content/drive/MyDrive/data_projet/train/train_data_unlabeled\",image))\n",
        "  im1=np.asarray(im)\n",
        "  im.close()\n",
        "  im1=im1[:,:,:3]\n",
        "  X_train.append(im1)\n",
        "\n",
        "X_train=np.asarray(X_train)\n",
        "\n",
        "\n",
        "X_test=[]\n",
        "for image in os.listdir(\"/content/drive/MyDrive/data_projet/test/test_data_unlabeled\"):\n",
        "  im=Image.open(os.path.join(\"/content/drive/MyDrive/data_projet/test/test_data_unlabeled\",image))\n",
        "  im1=np.asarray(im)\n",
        "  im.close()\n",
        "  im1=im1[:,:,:3]\n",
        "  X_test.append(im1)\n",
        "\n",
        "X_test=np.asarray(X_test)\n",
        "\n",
        "\n"
      ],
      "metadata": {
        "id": "3AXyU9S9YQFI"
      },
      "id": "3AXyU9S9YQFI",
      "execution_count": null,
      "outputs": []
    },
    {
      "cell_type": "code",
      "source": [
        "X_train_scaled = X_train.astype('float32') / 255.0\n",
        "\n",
        "y_train=pd.DataFrame(pd.read_csv(\"/content/drive/MyDrive/data_projet/y_train.csv\"))\n",
        "print(y_train)\n",
        "y_train=np.asarray(y_train.drop(\"id\", axis=1))\n",
        "\n",
        "y_train_encoded = to_categorical(y_train, num_classes=4)"
      ],
      "metadata": {
        "id": "mpWep_BjboQD",
        "colab": {
          "base_uri": "https://localhost:8080/"
        },
        "outputId": "1d4f495d-5bc3-4ab4-a9f2-1fb81efbd604"
      },
      "id": "mpWep_BjboQD",
      "execution_count": null,
      "outputs": [
        {
          "output_type": "stream",
          "name": "stdout",
          "text": [
            "          id  target\n",
            "0          0       0\n",
            "1          1       1\n",
            "2          2       0\n",
            "3          3       2\n",
            "4          4       2\n",
            "...      ...     ...\n",
            "16177  16177       1\n",
            "16178  16178       3\n",
            "16179  16179       2\n",
            "16180  16180       0\n",
            "16181  16181       1\n",
            "\n",
            "[16182 rows x 2 columns]\n"
          ]
        }
      ]
    },
    {
      "cell_type": "code",
      "source": [
        "y_train"
      ],
      "metadata": {
        "id": "xruDraAre8oQ",
        "colab": {
          "base_uri": "https://localhost:8080/"
        },
        "outputId": "9ef5bb97-a78d-4f9c-a261-fc6699f75f50"
      },
      "id": "xruDraAre8oQ",
      "execution_count": null,
      "outputs": [
        {
          "output_type": "execute_result",
          "data": {
            "text/plain": [
              "array([[0],\n",
              "       [1],\n",
              "       [0],\n",
              "       ...,\n",
              "       [2],\n",
              "       [0],\n",
              "       [1]])"
            ]
          },
          "metadata": {},
          "execution_count": 7
        }
      ]
    },
    {
      "cell_type": "markdown",
      "id": "9c4af957-fee1-4806-9d68-797d74c332df",
      "metadata": {
        "id": "9c4af957-fee1-4806-9d68-797d74c332df"
      },
      "source": [
        "### 1. Dataset"
      ]
    },
    {
      "cell_type": "markdown",
      "id": "dd860d81-ab4d-48d2-a071-e0e8aec8000f",
      "metadata": {
        "id": "dd860d81-ab4d-48d2-a071-e0e8aec8000f"
      },
      "source": [
        "You can load the dataset using the following code"
      ]
    },
    {
      "cell_type": "markdown",
      "id": "853727ee-5836-4345-84dd-b0135b33e6d3",
      "metadata": {
        "id": "853727ee-5836-4345-84dd-b0135b33e6d3"
      },
      "source": [
        "#### 1.2 Dataset examination"
      ]
    },
    {
      "cell_type": "markdown",
      "id": "93e9f48e-3192-494a-9b0f-e2f66a7c286e",
      "metadata": {
        "id": "93e9f48e-3192-494a-9b0f-e2f66a7c286e"
      },
      "source": [
        "Using the following code, display random images,"
      ]
    },
    {
      "cell_type": "markdown",
      "id": "08273dd4-05d0-4cd8-b989-eca8a4d1328a",
      "metadata": {
        "id": "08273dd4-05d0-4cd8-b989-eca8a4d1328a"
      },
      "source": [
        "#### 1.3 Dataset preprocessing"
      ]
    },
    {
      "cell_type": "markdown",
      "id": "2c16ee55-312f-4ee5-86cd-e09426e16e82",
      "metadata": {
        "id": "2c16ee55-312f-4ee5-86cd-e09426e16e82"
      },
      "source": [
        "Perform the necessary data preprocessing. The best way to preprocess the data would be one hot encoding for the target variable and normalization for the input variable (using min-max or z-score normalization)"
      ]
    },
    {
      "cell_type": "markdown",
      "id": "d20d5fef-cbca-48a2-844f-c9638f0b6bf9",
      "metadata": {
        "id": "d20d5fef-cbca-48a2-844f-c9638f0b6bf9"
      },
      "source": [
        "### 2. Build the model"
      ]
    },
    {
      "cell_type": "markdown",
      "id": "0ffd3896-079e-4758-9579-387f33af9691",
      "metadata": {
        "id": "0ffd3896-079e-4758-9579-387f33af9691"
      },
      "source": [
        "#### 2.1 Define the model structure"
      ]
    },
    {
      "cell_type": "code",
      "execution_count": null,
      "id": "77238bdf-ad74-4246-920d-a1dc28564306",
      "metadata": {
        "id": "77238bdf-ad74-4246-920d-a1dc28564306"
      },
      "outputs": [],
      "source": [
        "\n",
        "###################################\n",
        "# Write your own code here #\n",
        "\n",
        "from keras.layers import Input\n",
        "from keras.layers import Dropout\n",
        "\n",
        "input_shape = (45, 51, 3)\n",
        "model = Sequential()\n",
        "#Convolutional_layer\n",
        "model.add(Conv2D(32, kernel_size=(3, 3), activation='relu', input_shape=input_shape))\n",
        "# Maxpooling Layer\n",
        "model.add(MaxPooling2D(pool_size=(2, 2)))\n",
        "\n",
        "model.add(Conv2D(64, kernel_size=(3, 3), activation='relu', input_shape=input_shape))\n",
        "model.add(MaxPooling2D(pool_size=(2, 2)))\n",
        "\n",
        "\n",
        "# Flatten Layer\n",
        "model.add(Flatten())\n",
        "\n",
        "# Dense Layer\n",
        "model.add(Dense(128, activation='relu'))\n",
        "model.add(Dense(4, activation='softmax'))\n",
        "\n",
        "\n",
        "###################################\n"
      ]
    },
    {
      "cell_type": "markdown",
      "id": "fde4b3eb-90e1-4724-89df-0db1872560d4",
      "metadata": {
        "id": "fde4b3eb-90e1-4724-89df-0db1872560d4"
      },
      "source": [
        "#### 2.2 Compile the model"
      ]
    },
    {
      "cell_type": "code",
      "execution_count": null,
      "id": "e6d1a924-9e2f-4ca2-b4d6-4724f51ae065",
      "metadata": {
        "id": "e6d1a924-9e2f-4ca2-b4d6-4724f51ae065",
        "colab": {
          "base_uri": "https://localhost:8080/"
        },
        "outputId": "78d2683d-9303-49c6-9717-05d0074d8c8f"
      },
      "outputs": [
        {
          "output_type": "stream",
          "name": "stdout",
          "text": [
            "Model: \"sequential\"\n",
            "_________________________________________________________________\n",
            " Layer (type)                Output Shape              Param #   \n",
            "=================================================================\n",
            " conv2d (Conv2D)             (None, 43, 49, 32)        896       \n",
            "                                                                 \n",
            " max_pooling2d (MaxPooling2  (None, 21, 24, 32)        0         \n",
            " D)                                                              \n",
            "                                                                 \n",
            " conv2d_1 (Conv2D)           (None, 19, 22, 64)        18496     \n",
            "                                                                 \n",
            " max_pooling2d_1 (MaxPoolin  (None, 9, 11, 64)         0         \n",
            " g2D)                                                            \n",
            "                                                                 \n",
            " flatten (Flatten)           (None, 6336)              0         \n",
            "                                                                 \n",
            " dense (Dense)               (None, 128)               811136    \n",
            "                                                                 \n",
            " dense_1 (Dense)             (None, 4)                 516       \n",
            "                                                                 \n",
            "=================================================================\n",
            "Total params: 831044 (3.17 MB)\n",
            "Trainable params: 831044 (3.17 MB)\n",
            "Non-trainable params: 0 (0.00 Byte)\n",
            "_________________________________________________________________\n"
          ]
        }
      ],
      "source": [
        "\n",
        "###################################\n",
        "# Write your own code here #\n",
        "\n",
        "optimizer = Adamax(learning_rate = 0.0001)\n",
        "model.compile(loss='categorical_crossentropy', optimizer=optimizer, metrics=['accuracy'])\n",
        "\n",
        "\n",
        "\n",
        "model.summary()"
      ]
    },
    {
      "cell_type": "markdown",
      "id": "f146b70f-2e8c-484f-abfd-6fc4a8b8177b",
      "metadata": {
        "id": "f146b70f-2e8c-484f-abfd-6fc4a8b8177b"
      },
      "source": [
        "### 3. Training stage"
      ]
    },
    {
      "cell_type": "markdown",
      "id": "cb1de787-9e40-47e2-bc54-44ccd1864357",
      "metadata": {
        "id": "cb1de787-9e40-47e2-bc54-44ccd1864357"
      },
      "source": [
        "#### 3.1 Model training"
      ]
    },
    {
      "cell_type": "code",
      "execution_count": null,
      "id": "4f858566-601d-4873-ad02-a0635bd8f526",
      "metadata": {
        "id": "4f858566-601d-4873-ad02-a0635bd8f526",
        "colab": {
          "base_uri": "https://localhost:8080/"
        },
        "outputId": "29af4ac4-0ffe-446f-a27e-768e6c8a0ca7"
      },
      "outputs": [
        {
          "output_type": "stream",
          "name": "stdout",
          "text": [
            "Epoch 1/40\n",
            "87/87 [==============================] - 50s 561ms/step - loss: 1.3397 - accuracy: 0.3281 - val_loss: 1.3349 - val_accuracy: 0.3457\n",
            "Epoch 2/40\n",
            "87/87 [==============================] - 53s 611ms/step - loss: 1.3365 - accuracy: 0.3320 - val_loss: 1.3339 - val_accuracy: 0.3457\n",
            "Epoch 3/40\n",
            "87/87 [==============================] - 47s 537ms/step - loss: 1.3363 - accuracy: 0.3320 - val_loss: 1.3335 - val_accuracy: 0.3457\n",
            "Epoch 4/40\n",
            "87/87 [==============================] - 49s 556ms/step - loss: 1.3362 - accuracy: 0.3320 - val_loss: 1.3330 - val_accuracy: 0.3457\n",
            "Epoch 5/40\n",
            "87/87 [==============================] - 48s 552ms/step - loss: 1.3361 - accuracy: 0.3320 - val_loss: 1.3334 - val_accuracy: 0.3457\n",
            "Epoch 6/40\n",
            "87/87 [==============================] - 46s 525ms/step - loss: 1.3359 - accuracy: 0.3320 - val_loss: 1.3329 - val_accuracy: 0.3457\n",
            "Epoch 7/40\n",
            "87/87 [==============================] - 46s 525ms/step - loss: 1.3357 - accuracy: 0.3320 - val_loss: 1.3326 - val_accuracy: 0.3457\n",
            "Epoch 8/40\n",
            "87/87 [==============================] - 45s 519ms/step - loss: 1.3355 - accuracy: 0.3319 - val_loss: 1.3336 - val_accuracy: 0.3457\n",
            "Epoch 9/40\n",
            "87/87 [==============================] - 50s 570ms/step - loss: 1.3358 - accuracy: 0.3317 - val_loss: 1.3339 - val_accuracy: 0.3454\n",
            "Epoch 10/40\n",
            "87/87 [==============================] - 46s 524ms/step - loss: 1.3355 - accuracy: 0.3320 - val_loss: 1.3325 - val_accuracy: 0.3457\n",
            "Epoch 11/40\n",
            "87/87 [==============================] - 47s 547ms/step - loss: 1.3352 - accuracy: 0.3320 - val_loss: 1.3331 - val_accuracy: 0.3460\n",
            "Epoch 12/40\n",
            "87/87 [==============================] - 45s 522ms/step - loss: 1.3348 - accuracy: 0.3320 - val_loss: 1.3331 - val_accuracy: 0.3457\n",
            "Epoch 13/40\n",
            "87/87 [==============================] - 45s 522ms/step - loss: 1.3349 - accuracy: 0.3320 - val_loss: 1.3330 - val_accuracy: 0.3460\n",
            "Epoch 14/40\n",
            "87/87 [==============================] - 50s 581ms/step - loss: 1.3350 - accuracy: 0.3322 - val_loss: 1.3335 - val_accuracy: 0.3454\n",
            "Epoch 15/40\n",
            "87/87 [==============================] - 54s 621ms/step - loss: 1.3347 - accuracy: 0.3319 - val_loss: 1.3331 - val_accuracy: 0.3457\n",
            "Epoch 16/40\n",
            "87/87 [==============================] - 46s 529ms/step - loss: 1.3347 - accuracy: 0.3320 - val_loss: 1.3330 - val_accuracy: 0.3460\n",
            "Epoch 17/40\n",
            "87/87 [==============================] - 46s 527ms/step - loss: 1.3347 - accuracy: 0.3319 - val_loss: 1.3331 - val_accuracy: 0.3451\n",
            "Epoch 18/40\n",
            "87/87 [==============================] - 45s 521ms/step - loss: 1.3344 - accuracy: 0.3322 - val_loss: 1.3330 - val_accuracy: 0.3460\n",
            "Epoch 19/40\n",
            "87/87 [==============================] - 48s 549ms/step - loss: 1.3344 - accuracy: 0.3321 - val_loss: 1.3330 - val_accuracy: 0.3451\n",
            "Epoch 20/40\n",
            "87/87 [==============================] - 46s 530ms/step - loss: 1.3341 - accuracy: 0.3316 - val_loss: 1.3328 - val_accuracy: 0.3460\n",
            "Epoch 21/40\n",
            "87/87 [==============================] - 46s 530ms/step - loss: 1.3340 - accuracy: 0.3323 - val_loss: 1.3326 - val_accuracy: 0.3460\n",
            "Epoch 22/40\n",
            "87/87 [==============================] - 46s 528ms/step - loss: 1.3339 - accuracy: 0.3323 - val_loss: 1.3325 - val_accuracy: 0.3454\n",
            "Epoch 23/40\n",
            "87/87 [==============================] - 45s 523ms/step - loss: 1.3336 - accuracy: 0.3323 - val_loss: 1.3327 - val_accuracy: 0.3460\n",
            "Epoch 24/40\n",
            "87/87 [==============================] - 49s 562ms/step - loss: 1.3335 - accuracy: 0.3321 - val_loss: 1.3336 - val_accuracy: 0.3448\n",
            "Epoch 25/40\n",
            "87/87 [==============================] - 47s 533ms/step - loss: 1.3334 - accuracy: 0.3320 - val_loss: 1.3329 - val_accuracy: 0.3457\n",
            "Epoch 26/40\n",
            "87/87 [==============================] - 47s 545ms/step - loss: 1.3335 - accuracy: 0.3326 - val_loss: 1.3333 - val_accuracy: 0.3448\n",
            "Epoch 27/40\n",
            "87/87 [==============================] - 48s 554ms/step - loss: 1.3335 - accuracy: 0.3326 - val_loss: 1.3327 - val_accuracy: 0.3460\n",
            "Epoch 28/40\n",
            "87/87 [==============================] - 48s 551ms/step - loss: 1.3330 - accuracy: 0.3337 - val_loss: 1.3335 - val_accuracy: 0.3420\n",
            "Epoch 29/40\n",
            "87/87 [==============================] - 49s 563ms/step - loss: 1.3331 - accuracy: 0.3330 - val_loss: 1.3330 - val_accuracy: 0.3460\n",
            "Epoch 30/40\n",
            "87/87 [==============================] - 46s 527ms/step - loss: 1.3326 - accuracy: 0.3337 - val_loss: 1.3327 - val_accuracy: 0.3457\n",
            "Epoch 31/40\n",
            "87/87 [==============================] - 47s 537ms/step - loss: 1.3325 - accuracy: 0.3329 - val_loss: 1.3339 - val_accuracy: 0.3407\n",
            "Epoch 32/40\n",
            "87/87 [==============================] - 48s 556ms/step - loss: 1.3319 - accuracy: 0.3336 - val_loss: 1.3336 - val_accuracy: 0.3417\n",
            "Epoch 33/40\n",
            "87/87 [==============================] - 48s 553ms/step - loss: 1.3323 - accuracy: 0.3343 - val_loss: 1.3333 - val_accuracy: 0.3432\n",
            "Epoch 34/40\n",
            "87/87 [==============================] - 48s 555ms/step - loss: 1.3316 - accuracy: 0.3330 - val_loss: 1.3344 - val_accuracy: 0.3423\n",
            "Epoch 35/40\n",
            "87/87 [==============================] - 51s 581ms/step - loss: 1.3316 - accuracy: 0.3339 - val_loss: 1.3343 - val_accuracy: 0.3407\n",
            "Epoch 36/40\n",
            "87/87 [==============================] - 47s 544ms/step - loss: 1.3313 - accuracy: 0.3343 - val_loss: 1.3345 - val_accuracy: 0.3373\n",
            "Epoch 37/40\n",
            "87/87 [==============================] - 46s 528ms/step - loss: 1.3312 - accuracy: 0.3356 - val_loss: 1.3336 - val_accuracy: 0.3429\n",
            "Epoch 38/40\n",
            "87/87 [==============================] - 46s 528ms/step - loss: 1.3310 - accuracy: 0.3343 - val_loss: 1.3342 - val_accuracy: 0.3386\n",
            "Epoch 39/40\n",
            "87/87 [==============================] - 48s 550ms/step - loss: 1.3310 - accuracy: 0.3354 - val_loss: 1.3337 - val_accuracy: 0.3429\n",
            "Epoch 40/40\n",
            "87/87 [==============================] - 48s 554ms/step - loss: 1.3307 - accuracy: 0.3358 - val_loss: 1.3342 - val_accuracy: 0.3383\n"
          ]
        }
      ],
      "source": [
        "###################################\n",
        "# Write your own code here #\n",
        "callback = EarlyStopping(monitor='loss', patience=3)\n",
        "history = model.fit(X_train_scaled, y_train_encoded, epochs=40, batch_size=150, validation_split = 0.2)#, callbacks=[callback])\n",
        "\n",
        "\n",
        "###################################"
      ]
    },
    {
      "cell_type": "markdown",
      "id": "45651f2d-5cc4-4896-8edc-f58b50fed605",
      "metadata": {
        "id": "45651f2d-5cc4-4896-8edc-f58b50fed605"
      },
      "source": [
        "#### 3.1 Model Evaluation on validation data"
      ]
    },
    {
      "cell_type": "markdown",
      "id": "eb4ea2f2-fcc8-4308-82f6-3dbd5857e989",
      "metadata": {
        "id": "eb4ea2f2-fcc8-4308-82f6-3dbd5857e989"
      },
      "source": [
        "Plot the development of the training and validation loss, and training and validation metrics."
      ]
    },
    {
      "cell_type": "code",
      "execution_count": null,
      "id": "841d1e30-e448-4b53-b3fc-9b97863391bb",
      "metadata": {
        "id": "841d1e30-e448-4b53-b3fc-9b97863391bb",
        "colab": {
          "base_uri": "https://localhost:8080/"
        },
        "outputId": "81ace120-60ee-47e6-c1aa-041f38d4240f"
      },
      "outputs": [
        {
          "output_type": "stream",
          "name": "stdout",
          "text": [
            "150/150 [==============================] - 4s 27ms/step\n"
          ]
        }
      ],
      "source": [
        "###################################\n",
        "import pandas as pd\n",
        "\n",
        "# Prédictions du modèle sur les données de test\n",
        "predictions = model.predict(X_test)\n",
        "\n",
        "# Créer un DataFrame avec les colonnes 'id' et 'target'\n",
        "df_predictions = pd.DataFrame({'id': range(len(predictions)), 'target': predictions.argmax(axis=1)})\n",
        "\n",
        "# Enregistrer le DataFrame dans un fichier CSV avec les colonnes séparées\n",
        "df_predictions.to_csv('predictions.csv', index=False, columns=['id', 'target'], sep=',')\n",
        "\n",
        "\n"
      ]
    }
  ],
  "metadata": {
    "colab": {
      "gpuType": "T4",
      "provenance": []
    },
    "kernelspec": {
      "display_name": "Python 3",
      "name": "python3"
    },
    "language_info": {
      "codemirror_mode": {
        "name": "ipython",
        "version": 3
      },
      "file_extension": ".py",
      "mimetype": "text/x-python",
      "name": "python",
      "nbconvert_exporter": "python",
      "pygments_lexer": "ipython3",
      "version": "3.10.12"
    },
    "accelerator": "GPU"
  },
  "nbformat": 4,
  "nbformat_minor": 5
}